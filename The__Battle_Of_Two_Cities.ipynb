{
  "nbformat": 4,
  "nbformat_minor": 0,
  "metadata": {
    "colab": {
      "name": "The _Battle_Of_Two_Cities.ipynb",
      "provenance": [],
      "authorship_tag": "ABX9TyOnNRqWs2sO6i2JZNpDKTQ7",
      "include_colab_link": true
    },
    "kernelspec": {
      "name": "python3",
      "display_name": "Python 3"
    }
  },
  "cells": [
    {
      "cell_type": "markdown",
      "metadata": {
        "id": "view-in-github",
        "colab_type": "text"
      },
      "source": [
        "<a href=\"https://colab.research.google.com/github/Akshat977/Applied-Data-Science-Capstone-Coursera-/blob/main/The__Battle_Of_Two_Cities.ipynb\" target=\"_parent\"><img src=\"https://colab.research.google.com/assets/colab-badge.svg\" alt=\"Open In Colab\"/></a>"
      ]
    },
    {
      "cell_type": "code",
      "metadata": {
        "id": "hKnYFDUyQttL"
      },
      "source": [
        "import numpy as np\n",
        "import pandas as pd\n",
        "import folium\n",
        "from geopy.geocoders import Nominatim\n",
        "from pandas.io.json import json_normalize"
      ],
      "execution_count": null,
      "outputs": []
    },
    {
      "cell_type": "markdown",
      "metadata": {
        "id": "9I4g9SaIPA-2"
      },
      "source": [
        "**CLEANING DELHI**"
      ]
    },
    {
      "cell_type": "code",
      "metadata": {
        "id": "qKTRdYzdka0x"
      },
      "source": [
        "#df_delhi=pd.read_csv('delhi_dataSet[1].csv')\n",
        "#df_delrest=pd.read_csv('restaurant_dataSet[1].csv')\n",
        "#df_delhi.columns=['this','Borough','Neighborhood','latitude','longitude']\n",
        "#df_delhi.drop(['this'],axis=1,inplace=True)\n",
        "#df_delhi.head()"
      ],
      "execution_count": 29,
      "outputs": []
    },
    {
      "cell_type": "code",
      "metadata": {
        "id": "PBYCqhtbrfIR"
      },
      "source": [
        "#df_delrest.columns=['this','Neighborhood','Neighborhood lat','Neighborhoof lon','Venue','Venue lat','Venue lon','Venue category']\n",
        "#df_delrest.drop(['this'],axis=1,inplace=True)\n",
        "#print(df_delhi.shape,df_delrest.shape)\n",
        "#df_delrest.head()\n",
        "#df_del=pd.merge(df_delrest,df_delhi,on='Neighborhood')\n",
        "df_del.drop(['latitude','longitude'],axis=1,inplace=True)"
      ],
      "execution_count": 30,
      "outputs": []
    },
    {
      "cell_type": "code",
      "metadata": {
        "id": "IwqPVPm5Mn2R",
        "outputId": "b81d8d2c-3175-4fee-f4a2-c8de0776cb1c",
        "colab": {
          "base_uri": "https://localhost:8080/",
          "height": 195
        }
      },
      "source": [
        "df_del.head()"
      ],
      "execution_count": 43,
      "outputs": [
        {
          "output_type": "execute_result",
          "data": {
            "text/html": [
              "<div>\n",
              "<style scoped>\n",
              "    .dataframe tbody tr th:only-of-type {\n",
              "        vertical-align: middle;\n",
              "    }\n",
              "\n",
              "    .dataframe tbody tr th {\n",
              "        vertical-align: top;\n",
              "    }\n",
              "\n",
              "    .dataframe thead th {\n",
              "        text-align: right;\n",
              "    }\n",
              "</style>\n",
              "<table border=\"1\" class=\"dataframe\">\n",
              "  <thead>\n",
              "    <tr style=\"text-align: right;\">\n",
              "      <th></th>\n",
              "      <th>Neighborhood</th>\n",
              "      <th>Neighborhood lat</th>\n",
              "      <th>Neighborhoof lon</th>\n",
              "      <th>Venue</th>\n",
              "      <th>Venue lat</th>\n",
              "      <th>Venue lon</th>\n",
              "      <th>Venue category</th>\n",
              "      <th>Borough</th>\n",
              "    </tr>\n",
              "  </thead>\n",
              "  <tbody>\n",
              "    <tr>\n",
              "      <th>0</th>\n",
              "      <td>Adarsh Nagar</td>\n",
              "      <td>28.614193</td>\n",
              "      <td>77.071541</td>\n",
              "      <td>Eagle Boys Pizza</td>\n",
              "      <td>28.615595</td>\n",
              "      <td>77.070784</td>\n",
              "      <td>Pizza Place</td>\n",
              "      <td>North West Delhi</td>\n",
              "    </tr>\n",
              "    <tr>\n",
              "      <th>1</th>\n",
              "      <td>Adarsh Nagar</td>\n",
              "      <td>28.614193</td>\n",
              "      <td>77.071541</td>\n",
              "      <td>Bikanerwala</td>\n",
              "      <td>28.613391</td>\n",
              "      <td>77.076084</td>\n",
              "      <td>Indian Restaurant</td>\n",
              "      <td>North West Delhi</td>\n",
              "    </tr>\n",
              "    <tr>\n",
              "      <th>2</th>\n",
              "      <td>Adarsh Nagar</td>\n",
              "      <td>28.614193</td>\n",
              "      <td>77.071541</td>\n",
              "      <td>Bikano East Patel Nagar</td>\n",
              "      <td>28.616190</td>\n",
              "      <td>77.066978</td>\n",
              "      <td>Fast Food Restaurant</td>\n",
              "      <td>North West Delhi</td>\n",
              "    </tr>\n",
              "    <tr>\n",
              "      <th>3</th>\n",
              "      <td>Adarsh Nagar</td>\n",
              "      <td>28.614193</td>\n",
              "      <td>77.071541</td>\n",
              "      <td>McDonald's</td>\n",
              "      <td>28.616330</td>\n",
              "      <td>77.067034</td>\n",
              "      <td>Fast Food Restaurant</td>\n",
              "      <td>North West Delhi</td>\n",
              "    </tr>\n",
              "    <tr>\n",
              "      <th>4</th>\n",
              "      <td>Ashok Vihar</td>\n",
              "      <td>28.699453</td>\n",
              "      <td>77.184826</td>\n",
              "      <td>Nat Khat Caterers</td>\n",
              "      <td>28.699630</td>\n",
              "      <td>77.187832</td>\n",
              "      <td>Indian Restaurant</td>\n",
              "      <td>North West Delhi</td>\n",
              "    </tr>\n",
              "  </tbody>\n",
              "</table>\n",
              "</div>"
            ],
            "text/plain": [
              "   Neighborhood  Neighborhood lat  ...        Venue category           Borough\n",
              "0  Adarsh Nagar         28.614193  ...           Pizza Place  North West Delhi\n",
              "1  Adarsh Nagar         28.614193  ...     Indian Restaurant  North West Delhi\n",
              "2  Adarsh Nagar         28.614193  ...  Fast Food Restaurant  North West Delhi\n",
              "3  Adarsh Nagar         28.614193  ...  Fast Food Restaurant  North West Delhi\n",
              "4   Ashok Vihar         28.699453  ...     Indian Restaurant  North West Delhi\n",
              "\n",
              "[5 rows x 8 columns]"
            ]
          },
          "metadata": {
            "tags": []
          },
          "execution_count": 43
        }
      ]
    },
    {
      "cell_type": "markdown",
      "metadata": {
        "id": "DspylroLPFV2"
      },
      "source": [
        "**CLEANING MUMBAI**"
      ]
    },
    {
      "cell_type": "code",
      "metadata": {
        "id": "CNlnuQWNlNsl"
      },
      "source": [
        "df_mumbai_unfiltered=pd.read_csv('mumbai.csv')\n",
        "df_mumbai_unfiltered.head()\n",
        "df_mumbai=df_mumbai_unfiltered.drop(['officeType','Deliverystatus','circlename','Taluk','Districtname','statename','Telephone','Related Suboffice','Related Headoffice'],axis=1)\n",
        "#deleting all other data other than the data containing mumbai from df_mumbai:\n",
        "df_mumbai=df_mumbai[df_mumbai['regionname']=='Mumbai']\n",
        "df_mumbai['officename'] = df_mumbai['officename'].str.rstrip('S.O.')\n",
        "df_mumbai['officename'] = df_mumbai['officename'].str.rstrip('B.O.')\n",
        "df_mumbai['officename'] = df_mumbai['officename'].str.rstrip('H.O.')\n",
        "df_mumbai.reset_index(drop=True,inplace=True)\n",
        "df_mum=df_mumbai\n",
        "df_mum.columns=['Neighborhood','pincode','Borough','this','this2','this3']\n",
        "df_mum.drop(['this','this2','this3'],axis=1,inplace=True)"
      ],
      "execution_count": 40,
      "outputs": []
    },
    {
      "cell_type": "code",
      "metadata": {
        "id": "I_qoQrWfqK8r",
        "outputId": "2f809931-92e6-45da-c847-9074d01ed70b",
        "colab": {
          "base_uri": "https://localhost:8080/",
          "height": 195
        }
      },
      "source": [
        "df_mum.head()  "
      ],
      "execution_count": 44,
      "outputs": [
        {
          "output_type": "execute_result",
          "data": {
            "text/html": [
              "<div>\n",
              "<style scoped>\n",
              "    .dataframe tbody tr th:only-of-type {\n",
              "        vertical-align: middle;\n",
              "    }\n",
              "\n",
              "    .dataframe tbody tr th {\n",
              "        vertical-align: top;\n",
              "    }\n",
              "\n",
              "    .dataframe thead th {\n",
              "        text-align: right;\n",
              "    }\n",
              "</style>\n",
              "<table border=\"1\" class=\"dataframe\">\n",
              "  <thead>\n",
              "    <tr style=\"text-align: right;\">\n",
              "      <th></th>\n",
              "      <th>Neighborhood</th>\n",
              "      <th>pincode</th>\n",
              "      <th>Borough</th>\n",
              "    </tr>\n",
              "  </thead>\n",
              "  <tbody>\n",
              "    <tr>\n",
              "      <th>0</th>\n",
              "      <td>Antop Hill</td>\n",
              "      <td>400037</td>\n",
              "      <td>Mumbai  East</td>\n",
              "    </tr>\n",
              "    <tr>\n",
              "      <th>1</th>\n",
              "      <td>B P T Colony</td>\n",
              "      <td>400037</td>\n",
              "      <td>Mumbai  East</td>\n",
              "    </tr>\n",
              "    <tr>\n",
              "      <th>2</th>\n",
              "      <td>B.P.Lane</td>\n",
              "      <td>400003</td>\n",
              "      <td>Mumbai  East</td>\n",
              "    </tr>\n",
              "    <tr>\n",
              "      <th>3</th>\n",
              "      <td>BEST STaff Quarters</td>\n",
              "      <td>400012</td>\n",
              "      <td>Mumbai  East</td>\n",
              "    </tr>\n",
              "    <tr>\n",
              "      <th>4</th>\n",
              "      <td>C G S Colony</td>\n",
              "      <td>400037</td>\n",
              "      <td>Mumbai  East</td>\n",
              "    </tr>\n",
              "  </tbody>\n",
              "</table>\n",
              "</div>"
            ],
            "text/plain": [
              "           Neighborhood  pincode       Borough\n",
              "0           Antop Hill    400037  Mumbai  East\n",
              "1         B P T Colony    400037  Mumbai  East\n",
              "2             B.P.Lane    400003  Mumbai  East\n",
              "3  BEST STaff Quarters    400012  Mumbai  East\n",
              "4         C G S Colony    400037  Mumbai  East"
            ]
          },
          "metadata": {
            "tags": []
          },
          "execution_count": 44
        }
      ]
    },
    {
      "cell_type": "markdown",
      "metadata": {
        "id": "GId4Z1LBPLe-"
      },
      "source": [
        "**ADDING LATITUDES AND LONGITUDES TO MUMBAI:**"
      ]
    },
    {
      "cell_type": "code",
      "metadata": {
        "id": "ykgVmxAXwjA7",
        "outputId": "220f137e-c72d-40cd-cd42-3e83f601034f",
        "colab": {
          "base_uri": "https://localhost:8080/",
          "height": 34
        }
      },
      "source": [
        "address='Antop Hill, Mumbai'\n",
        "\n",
        "location=geolocator.geocode(address)\n",
        "print(location.latitude,location.longitude)"
      ],
      "execution_count": null,
      "outputs": [
        {
          "output_type": "stream",
          "text": [
            "19.0207608 72.8652556\n"
          ],
          "name": "stdout"
        }
      ]
    },
    {
      "cell_type": "code",
      "metadata": {
        "id": "loacPsX4x8gm"
      },
      "source": [
        "lon,lat=list(),list()\n",
        "for index,row in df_mum.iterrows():\n",
        "  address='{}, Mumbai'.format(row['Neighborhood'])\n",
        "  geolocator=Nominatim(user_agent='foursquare_agent')\n",
        "  try:\n",
        "    location=geolocator.geocode(address)\n",
        "    lat.append(location.latitude)\n",
        "    lon.append(location.longitude)\n",
        "  except:\n",
        "    lat.append(np.nan)\n",
        "    lon.append(np.nan)\n",
        "\n",
        "df_mum['latitude']=lat\n",
        "df_mum['longitude']=lon\n",
        "df_mum.head()"
      ],
      "execution_count": null,
      "outputs": []
    }
  ]
}