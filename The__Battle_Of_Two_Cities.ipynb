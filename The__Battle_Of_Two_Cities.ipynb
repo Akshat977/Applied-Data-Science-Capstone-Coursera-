{
  "nbformat": 4,
  "nbformat_minor": 0,
  "metadata": {
    "colab": {
      "name": "The _Battle_Of_Two_Cities.ipynb",
      "provenance": [],
      "authorship_tag": "ABX9TyNrChsZGrZ+x6/wmLB5WhQQ",
      "include_colab_link": true
    },
    "kernelspec": {
      "name": "python3",
      "display_name": "Python 3"
    }
  },
  "cells": [
    {
      "cell_type": "markdown",
      "metadata": {
        "id": "view-in-github",
        "colab_type": "text"
      },
      "source": [
        "<a href=\"https://colab.research.google.com/github/Akshat977/Applied-Data-Science-Capstone-Coursera-/blob/main/The__Battle_Of_Two_Cities.ipynb\" target=\"_parent\"><img src=\"https://colab.research.google.com/assets/colab-badge.svg\" alt=\"Open In Colab\"/></a>"
      ]
    },
    {
      "cell_type": "code",
      "metadata": {
        "id": "0Yr1ZG3DcsfY"
      },
      "source": [
        "import numpy as np\n",
        "import pandas as pd\n",
        "import folium\n",
        "from geopy.geocoders import Nominatim\n",
        "from pandas.io.json import json_normalize"
      ],
      "execution_count": 1,
      "outputs": []
    },
    {
      "cell_type": "code",
      "metadata": {
        "id": "qKTRdYzdka0x",
        "outputId": "10a7592c-3a9b-4851-b8ce-3c4776d237e8",
        "colab": {
          "base_uri": "https://localhost:8080/",
          "height": 195
        }
      },
      "source": [
        "#df_delhi=pd.read_csv('delhi_dataSet.csv')\n",
        "#df_delrest=pd.read_csv('restaurant_dataSet.csv')\n",
        "df_delhi.head()"
      ],
      "execution_count": 20,
      "outputs": [
        {
          "output_type": "execute_result",
          "data": {
            "text/html": [
              "<div>\n",
              "<style scoped>\n",
              "    .dataframe tbody tr th:only-of-type {\n",
              "        vertical-align: middle;\n",
              "    }\n",
              "\n",
              "    .dataframe tbody tr th {\n",
              "        vertical-align: top;\n",
              "    }\n",
              "\n",
              "    .dataframe thead th {\n",
              "        text-align: right;\n",
              "    }\n",
              "</style>\n",
              "<table border=\"1\" class=\"dataframe\">\n",
              "  <thead>\n",
              "    <tr style=\"text-align: right;\">\n",
              "      <th></th>\n",
              "      <th>Unnamed: 0</th>\n",
              "      <th>Borough</th>\n",
              "      <th>Neighborhood</th>\n",
              "      <th>latitude</th>\n",
              "      <th>longitude</th>\n",
              "    </tr>\n",
              "  </thead>\n",
              "  <tbody>\n",
              "    <tr>\n",
              "      <th>0</th>\n",
              "      <td>0</td>\n",
              "      <td>North West Delhi</td>\n",
              "      <td>Adarsh Nagar</td>\n",
              "      <td>28.614192</td>\n",
              "      <td>77.071541</td>\n",
              "    </tr>\n",
              "    <tr>\n",
              "      <th>1</th>\n",
              "      <td>1</td>\n",
              "      <td>North West Delhi</td>\n",
              "      <td>Ashok Vihar</td>\n",
              "      <td>28.699453</td>\n",
              "      <td>77.184826</td>\n",
              "    </tr>\n",
              "    <tr>\n",
              "      <th>2</th>\n",
              "      <td>2</td>\n",
              "      <td>North West Delhi</td>\n",
              "      <td>Azadpur</td>\n",
              "      <td>28.707657</td>\n",
              "      <td>77.175547</td>\n",
              "    </tr>\n",
              "    <tr>\n",
              "      <th>3</th>\n",
              "      <td>3</td>\n",
              "      <td>North West Delhi</td>\n",
              "      <td>Bawana</td>\n",
              "      <td>28.799660</td>\n",
              "      <td>77.032885</td>\n",
              "    </tr>\n",
              "    <tr>\n",
              "      <th>4</th>\n",
              "      <td>4</td>\n",
              "      <td>North West Delhi</td>\n",
              "      <td>Begum Pur</td>\n",
              "      <td>NaN</td>\n",
              "      <td>NaN</td>\n",
              "    </tr>\n",
              "  </tbody>\n",
              "</table>\n",
              "</div>"
            ],
            "text/plain": [
              "   Unnamed: 0           Borough  Neighborhood   latitude  longitude\n",
              "0           0  North West Delhi  Adarsh Nagar  28.614192  77.071541\n",
              "1           1  North West Delhi   Ashok Vihar  28.699453  77.184826\n",
              "2           2  North West Delhi       Azadpur  28.707657  77.175547\n",
              "3           3  North West Delhi        Bawana  28.799660  77.032885\n",
              "4           4  North West Delhi     Begum Pur        NaN        NaN"
            ]
          },
          "metadata": {
            "tags": []
          },
          "execution_count": 20
        }
      ]
    },
    {
      "cell_type": "code",
      "metadata": {
        "id": "PBYCqhtbrfIR",
        "outputId": "85134485-6828-401c-b2ac-b41b47725951",
        "colab": {
          "base_uri": "https://localhost:8080/",
          "height": 212
        }
      },
      "source": [
        "#df_delrest.columns=['this','Neighborhood','Neighborhood lat','Neighborhoof lon','Venue','Venue lat','Venue lon','Venue category']\n",
        "#df_delrest.drop(['this'],axis=1,inplace=True)\n",
        "print(df_delhi.shape,df_delrest.shape)\n",
        "df_delrest.head()"
      ],
      "execution_count": 19,
      "outputs": [
        {
          "output_type": "stream",
          "text": [
            "(185, 5) (849, 7)\n"
          ],
          "name": "stdout"
        },
        {
          "output_type": "execute_result",
          "data": {
            "text/html": [
              "<div>\n",
              "<style scoped>\n",
              "    .dataframe tbody tr th:only-of-type {\n",
              "        vertical-align: middle;\n",
              "    }\n",
              "\n",
              "    .dataframe tbody tr th {\n",
              "        vertical-align: top;\n",
              "    }\n",
              "\n",
              "    .dataframe thead th {\n",
              "        text-align: right;\n",
              "    }\n",
              "</style>\n",
              "<table border=\"1\" class=\"dataframe\">\n",
              "  <thead>\n",
              "    <tr style=\"text-align: right;\">\n",
              "      <th></th>\n",
              "      <th>Neighborhood</th>\n",
              "      <th>Neighborhood lat</th>\n",
              "      <th>Neighborhoof lon</th>\n",
              "      <th>Venue</th>\n",
              "      <th>Venue lat</th>\n",
              "      <th>Venue lon</th>\n",
              "      <th>Venue category</th>\n",
              "    </tr>\n",
              "  </thead>\n",
              "  <tbody>\n",
              "    <tr>\n",
              "      <th>0</th>\n",
              "      <td>Adarsh Nagar</td>\n",
              "      <td>28.614193</td>\n",
              "      <td>77.071541</td>\n",
              "      <td>Eagle Boys Pizza</td>\n",
              "      <td>28.615595</td>\n",
              "      <td>77.070784</td>\n",
              "      <td>Pizza Place</td>\n",
              "    </tr>\n",
              "    <tr>\n",
              "      <th>1</th>\n",
              "      <td>Adarsh Nagar</td>\n",
              "      <td>28.614193</td>\n",
              "      <td>77.071541</td>\n",
              "      <td>Bikanerwala</td>\n",
              "      <td>28.613391</td>\n",
              "      <td>77.076084</td>\n",
              "      <td>Indian Restaurant</td>\n",
              "    </tr>\n",
              "    <tr>\n",
              "      <th>2</th>\n",
              "      <td>Adarsh Nagar</td>\n",
              "      <td>28.614193</td>\n",
              "      <td>77.071541</td>\n",
              "      <td>Bikano East Patel Nagar</td>\n",
              "      <td>28.616190</td>\n",
              "      <td>77.066978</td>\n",
              "      <td>Fast Food Restaurant</td>\n",
              "    </tr>\n",
              "    <tr>\n",
              "      <th>3</th>\n",
              "      <td>Adarsh Nagar</td>\n",
              "      <td>28.614193</td>\n",
              "      <td>77.071541</td>\n",
              "      <td>McDonald's</td>\n",
              "      <td>28.616330</td>\n",
              "      <td>77.067034</td>\n",
              "      <td>Fast Food Restaurant</td>\n",
              "    </tr>\n",
              "    <tr>\n",
              "      <th>4</th>\n",
              "      <td>Ashok Vihar</td>\n",
              "      <td>28.699453</td>\n",
              "      <td>77.184826</td>\n",
              "      <td>Nat Khat Caterers</td>\n",
              "      <td>28.699630</td>\n",
              "      <td>77.187832</td>\n",
              "      <td>Indian Restaurant</td>\n",
              "    </tr>\n",
              "  </tbody>\n",
              "</table>\n",
              "</div>"
            ],
            "text/plain": [
              "   Neighborhood  Neighborhood lat  ...  Venue lon        Venue category\n",
              "0  Adarsh Nagar         28.614193  ...  77.070784           Pizza Place\n",
              "1  Adarsh Nagar         28.614193  ...  77.076084     Indian Restaurant\n",
              "2  Adarsh Nagar         28.614193  ...  77.066978  Fast Food Restaurant\n",
              "3  Adarsh Nagar         28.614193  ...  77.067034  Fast Food Restaurant\n",
              "4   Ashok Vihar         28.699453  ...  77.187832     Indian Restaurant\n",
              "\n",
              "[5 rows x 7 columns]"
            ]
          },
          "metadata": {
            "tags": []
          },
          "execution_count": 19
        }
      ]
    },
    {
      "cell_type": "code",
      "metadata": {
        "id": "CNlnuQWNlNsl"
      },
      "source": [
        "#df_mumbai_unfiltered=pd.read_csv('mumbai.csv')\n",
        "#df_mumbai_unfiltered.head()\n",
        "#df_mumbai=df_mumbai_unfiltered.drop(['officeType','Deliverystatus','divisionname','circlename','Taluk','Districtname','statename','Telephone','Related Suboffice','Related Headoffice'],axis=1)\n",
        "#deleting all other data other than the data containing mumbai from df_mumbai:\n",
        "#df_mumbai=df_mumbai[df_mumbai['regionname']=='Mumbai']\n",
        "#df_mumbai['officename'] = df_mumbai['officename'].str.rstrip('S.O.')\n",
        "#df_mumbai['officename'] = df_mumbai['officename'].str.rstrip('B.O.')\n",
        "#df_mumbai['officename'] = df_mumbai['officename'].str.rstrip('H.O.')"
      ],
      "execution_count": 25,
      "outputs": []
    },
    {
      "cell_type": "code",
      "metadata": {
        "id": "I_qoQrWfqK8r",
        "outputId": "dbf83ea0-483b-45dd-f48a-58efe0254fc2",
        "colab": {
          "base_uri": "https://localhost:8080/",
          "height": 195
        }
      },
      "source": [
        "df_mumbai.reset_index(drop=True,inplace=True)\n",
        "df_mumbai.head()  "
      ],
      "execution_count": 26,
      "outputs": [
        {
          "output_type": "execute_result",
          "data": {
            "text/html": [
              "<div>\n",
              "<style scoped>\n",
              "    .dataframe tbody tr th:only-of-type {\n",
              "        vertical-align: middle;\n",
              "    }\n",
              "\n",
              "    .dataframe tbody tr th {\n",
              "        vertical-align: top;\n",
              "    }\n",
              "\n",
              "    .dataframe thead th {\n",
              "        text-align: right;\n",
              "    }\n",
              "</style>\n",
              "<table border=\"1\" class=\"dataframe\">\n",
              "  <thead>\n",
              "    <tr style=\"text-align: right;\">\n",
              "      <th></th>\n",
              "      <th>officename</th>\n",
              "      <th>pincode</th>\n",
              "      <th>regionname</th>\n",
              "      <th>longitude</th>\n",
              "      <th>latitude</th>\n",
              "    </tr>\n",
              "  </thead>\n",
              "  <tbody>\n",
              "    <tr>\n",
              "      <th>0</th>\n",
              "      <td>Antop Hill</td>\n",
              "      <td>400037</td>\n",
              "      <td>Mumbai</td>\n",
              "      <td>NaN</td>\n",
              "      <td>NaN</td>\n",
              "    </tr>\n",
              "    <tr>\n",
              "      <th>1</th>\n",
              "      <td>B P T Colony</td>\n",
              "      <td>400037</td>\n",
              "      <td>Mumbai</td>\n",
              "      <td>NaN</td>\n",
              "      <td>NaN</td>\n",
              "    </tr>\n",
              "    <tr>\n",
              "      <th>2</th>\n",
              "      <td>B.P.Lane</td>\n",
              "      <td>400003</td>\n",
              "      <td>Mumbai</td>\n",
              "      <td>NaN</td>\n",
              "      <td>NaN</td>\n",
              "    </tr>\n",
              "    <tr>\n",
              "      <th>3</th>\n",
              "      <td>BEST STaff Quarters</td>\n",
              "      <td>400012</td>\n",
              "      <td>Mumbai</td>\n",
              "      <td>NaN</td>\n",
              "      <td>NaN</td>\n",
              "    </tr>\n",
              "    <tr>\n",
              "      <th>4</th>\n",
              "      <td>C G S Colony</td>\n",
              "      <td>400037</td>\n",
              "      <td>Mumbai</td>\n",
              "      <td>NaN</td>\n",
              "      <td>NaN</td>\n",
              "    </tr>\n",
              "  </tbody>\n",
              "</table>\n",
              "</div>"
            ],
            "text/plain": [
              "             officename  pincode regionname  longitude  latitude\n",
              "0           Antop Hill    400037     Mumbai        NaN       NaN\n",
              "1         B P T Colony    400037     Mumbai        NaN       NaN\n",
              "2             B.P.Lane    400003     Mumbai        NaN       NaN\n",
              "3  BEST STaff Quarters    400012     Mumbai        NaN       NaN\n",
              "4         C G S Colony    400037     Mumbai        NaN       NaN"
            ]
          },
          "metadata": {
            "tags": []
          },
          "execution_count": 26
        }
      ]
    },
    {
      "cell_type": "code",
      "metadata": {
        "id": "lfgIWIjcvxWT",
        "outputId": "609a58f2-0d28-4f07-df92-614840c1caf8",
        "colab": {
          "base_uri": "https://localhost:8080/",
          "height": 118
        }
      },
      "source": [
        "df_mumbai.isnull().sum()"
      ],
      "execution_count": 28,
      "outputs": [
        {
          "output_type": "execute_result",
          "data": {
            "text/plain": [
              "officename       0\n",
              "pincode          0\n",
              "regionname       0\n",
              "longitude     1123\n",
              "latitude      1123\n",
              "dtype: int64"
            ]
          },
          "metadata": {
            "tags": []
          },
          "execution_count": 28
        }
      ]
    },
    {
      "cell_type": "code",
      "metadata": {
        "id": "ykgVmxAXwjA7",
        "outputId": "220f137e-c72d-40cd-cd42-3e83f601034f",
        "colab": {
          "base_uri": "https://localhost:8080/",
          "height": 34
        }
      },
      "source": [
        "address='Antop Hill, Mumbai'\n",
        "\n",
        "location=geolocator.geocode(address)\n",
        "print(location.latitude,location.longitude)"
      ],
      "execution_count": 29,
      "outputs": [
        {
          "output_type": "stream",
          "text": [
            "19.0207608 72.8652556\n"
          ],
          "name": "stdout"
        }
      ]
    },
    {
      "cell_type": "code",
      "metadata": {
        "id": "loacPsX4x8gm"
      },
      "source": [
        "lon,lat=list(),list()\n",
        "for index,row in df_mumbai.iterrows():\n",
        "  address='{}, Mumbai'.format(row['officename'])\n",
        "  geolocator=Nominatim(user_agent='foursquare_agent')\n",
        "  try:\n",
        "    location=geolocator.geocode(address)\n",
        "    lat.append(location.latitude)\n",
        "    lon.append(location.longitude)\n",
        "  except:\n",
        "    lat.append(np.nan)\n",
        "    lon.append(np.nan)\n",
        "\n",
        "df_mumbai['latitude']=lat\n",
        "df_mumbai['longitude']=lon\n",
        "df_mumbai.head()"
      ],
      "execution_count": null,
      "outputs": []
    },
    {
      "cell_type": "code",
      "metadata": {
        "id": "1qim3Jh7zaX7"
      },
      "source": [
        ""
      ],
      "execution_count": null,
      "outputs": []
    }
  ]
}