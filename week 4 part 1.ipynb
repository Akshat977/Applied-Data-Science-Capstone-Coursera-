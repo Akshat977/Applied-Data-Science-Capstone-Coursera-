{
  "nbformat": 4,
  "nbformat_minor": 0,
  "metadata": {
    "colab": {
      "name": "Untitled7.ipynb",
      "provenance": [],
      "authorship_tag": "ABX9TyPEosVHRXRWnfEJdAZbPRMN",
      "include_colab_link": true
    },
    "kernelspec": {
      "name": "python3",
      "display_name": "Python 3"
    }
  },
  "cells": [
    {
      "cell_type": "markdown",
      "metadata": {
        "id": "view-in-github",
        "colab_type": "text"
      },
      "source": [
        "<a href=\"https://colab.research.google.com/github/Akshat977/Applied-Data-Science-Capstone-Coursera-/blob/main/week%204%20part%201.ipynb\" target=\"_parent\"><img src=\"https://colab.research.google.com/assets/colab-badge.svg\" alt=\"Open In Colab\"/></a>"
      ]
    },
    {
      "cell_type": "markdown",
      "metadata": {
        "id": "BeJ4JjpOdrBo"
      },
      "source": [
        "**DESCRIPTION OF THE PROBLEM:** "
      ]
    },
    {
      "cell_type": "markdown",
      "metadata": {
        "id": "-Z6gnFX7dvhH"
      },
      "source": [
        " \n",
        "\n",
        "*  Delhi and Bangalore are two of the major metropolitan cities in India.\n",
        "*   They are vibrant and multi-cultural. \n",
        "\n",
        "*   In this project I will be diving deep into their neighborhoods and find the similarities and dissimilarities between them on the basis of food.\n",
        "\n",
        "\n",
        "\n",
        "\n"
      ]
    },
    {
      "cell_type": "markdown",
      "metadata": {
        "id": "admVZYdriyxE"
      },
      "source": [
        "**DISCUSSION OF THE BACKGROOUND** **bold text**"
      ]
    },
    {
      "cell_type": "markdown",
      "metadata": {
        "id": "ec4bA2t8iY0L"
      },
      "source": [
        "The people of these cities have been on each other's necks for decades to prove that they are superior in culture to the other. In this project I wil settle this debate once and for all on the basis of the most important aspect of them all: **FOOD** "
      ]
    },
    {
      "cell_type": "markdown",
      "metadata": {
        "id": "LQ3AJBg1jK6K"
      },
      "source": [
        "The similarity and dissimilarity will be decided on the basis of their goods. There can be one of the following conditions:\n",
        "\n",
        "*   The food in Delhi is completely similar to the food in Bangalore.\n",
        "*   The variety of food in Delhi is a subset of the variety of food in Bangalore.\n",
        "\n",
        "*   The variety of food in Mumbai is a susbset of the variety of food in Bangalore.\n",
        "\n",
        "\n",
        "\n"
      ]
    }
  ]
}